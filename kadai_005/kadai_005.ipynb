{
  "nbformat": 4,
  "nbformat_minor": 0,
  "metadata": {
    "colab": {
      "provenance": []
    },
    "kernelspec": {
      "name": "python3",
      "display_name": "Python 3"
    },
    "language_info": {
      "name": "python"
    }
  },
  "cells": [
    {
      "cell_type": "code",
      "execution_count": 4,
      "metadata": {
        "colab": {
          "base_uri": "https://localhost:8080/"
        },
        "id": "yiSqLYiIw7Es",
        "outputId": "f463b5cb-86d2-4422-ee9f-101bb9076a22"
      },
      "outputs": [
        {
          "output_type": "stream",
          "name": "stdout",
          "text": [
            "上辺10㎝ 下辺20㎝ 高さ5㎝ の台形の面積は75.0 cm²です。\n"
          ]
        }
      ],
      "source": [
        "\n",
        "\n",
        "# 台形の面積を計算\n",
        "base1 = 10\n",
        "base2 = 20\n",
        "height = 5\n",
        "print(f\"上辺{base1}㎝ 下辺{base2}㎝ 高さ{height}㎝ の台形の面積は{(base1 + base2) * height / 2} cm²です。\")\n"
      ]
    }
  ]
}