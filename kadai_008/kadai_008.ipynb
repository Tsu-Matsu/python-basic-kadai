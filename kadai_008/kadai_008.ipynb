{
  "nbformat": 4,
  "nbformat_minor": 0,
  "metadata": {
    "colab": {
      "provenance": []
    },
    "kernelspec": {
      "name": "python3",
      "display_name": "Python 3"
    },
    "language_info": {
      "name": "python"
    }
  },
  "cells": [
    {
      "cell_type": "code",
      "execution_count": 60,
      "metadata": {
        "colab": {
          "base_uri": "https://localhost:8080/"
        },
        "id": "DqJDE5hzRU4F",
        "outputId": "37a5b170-6710-41b1-ec1a-58d857adeb0c"
      },
      "outputs": [
        {
          "output_type": "stream",
          "name": "stdout",
          "text": [
            "426518995766\n",
            "426518995766 is neither Fizz nor Buzz.\n"
          ]
        }
      ],
      "source": [
        "#ランダムな整数を利用するために、randomモジュールをインポート\n",
        "import random\n",
        "\n",
        "# 変数varにランダムな正の整数を代入する\n",
        "var = random.randint(1,10**12)\n",
        "\n",
        "# 変数numの値を出力\n",
        "print(var)\n",
        "\n",
        "# 変数varが、3の倍数と5の倍数の両方に該当する場合に処理を行う\n",
        "if var % 3 == 0 and var % 5 == 0:\n",
        "    print(\"FizzBuzz\")\n",
        "\n",
        "# 変数varが、3の倍数(即ち 3で割って余りが0）場合に処理を行う\n",
        "elif var % 3 == 0:\n",
        "    print(\"Fizz\")\n",
        "\n",
        "# 変数varが、5の倍数(即ち 5で割って余りが0）場合に処理を行う\n",
        "elif var % 5 == 0:\n",
        "    print(\"Buzz\")\n",
        "\n",
        "# それ以外は、変数varの値を出力\n",
        "else:\n",
        "    print(f\"{var} is neither Fizz nor Buzz.\")\n"
      ]
    }
  ]
}