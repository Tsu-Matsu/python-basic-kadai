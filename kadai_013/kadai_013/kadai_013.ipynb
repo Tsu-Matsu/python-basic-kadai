{
  "nbformat": 4,
  "nbformat_minor": 0,
  "metadata": {
    "colab": {
      "provenance": []
    },
    "kernelspec": {
      "name": "python3",
      "display_name": "Python 3"
    },
    "language_info": {
      "name": "python"
    }
  },
  "cells": [
    {
      "cell_type": "code",
      "execution_count": 4,
      "metadata": {
        "colab": {
          "base_uri": "https://localhost:8080/"
        },
        "id": "GtKXT7XZVaNN",
        "outputId": "e5eb2b4f-effe-45c3-af5c-b25bd1e64489"
      },
      "outputs": [
        {
          "output_type": "stream",
          "name": "stdout",
          "text": [
            "121.0円\n"
          ]
        }
      ],
      "source": [
        "def calculate_total(price, tax):\n",
        "    # 与えられた商品価格price,消費税taxにて税込み価格を計算する。\n",
        "    return price * (100 + tax) / 100\n",
        "\n",
        "# 税込み価格を出力する\n",
        "print(f\"{calculate_total(110, 10)}円\")\n"
      ]
    }
  ]
}