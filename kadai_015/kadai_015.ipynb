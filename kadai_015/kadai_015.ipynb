{
  "nbformat": 4,
  "nbformat_minor": 0,
  "metadata": {
    "colab": {
      "provenance": []
    },
    "kernelspec": {
      "name": "python3",
      "display_name": "Python 3"
    },
    "language_info": {
      "name": "python"
    }
  },
  "cells": [
    {
      "cell_type": "code",
      "execution_count": 2,
      "metadata": {
        "colab": {
          "base_uri": "https://localhost:8080/"
        },
        "id": "GtKXT7XZVaNN",
        "outputId": "b0c347be-ad9d-46c4-a19c-da1453f1e6b8"
      },
      "outputs": [
        {
          "output_type": "stream",
          "name": "stdout",
          "text": [
            "名前： 松原 努\n",
            "年齢： 51 歳\n"
          ]
        }
      ],
      "source": [
        "# Humanクラスの定義\n",
        "class Human:\n",
        "    # コンストラクタ（初期化メソッド）\n",
        "    def __init__(self, name, age):\n",
        "        self.name = name  # 名前をname属性に代入\n",
        "        self.age = age    # 年齢をage属性に代入\n",
        "\n",
        "    # 人の情報を出力するメソッド\n",
        "    def printinfo(self):\n",
        "        print(\"名前：\", self.name)\n",
        "        print(\"年齢：\", self.age, \"歳\")\n",
        "\n",
        "\n",
        "# Humanクラスのインスタンスを作成\n",
        "person = Human(name=\"松原 努\", age=51)\n",
        "\n",
        "# メソッドを使って情報を出力\n",
        "person.printinfo()\n",
        "\n"
      ]
    }
  ]
}