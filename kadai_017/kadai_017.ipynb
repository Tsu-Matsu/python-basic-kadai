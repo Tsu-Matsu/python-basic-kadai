{
  "nbformat": 4,
  "nbformat_minor": 0,
  "metadata": {
    "colab": {
      "provenance": []
    },
    "kernelspec": {
      "name": "python3",
      "display_name": "Python 3"
    },
    "language_info": {
      "name": "python"
    }
  },
  "cells": [
    {
      "cell_type": "code",
      "source": [
        "# 1. Humanクラスの定義\n",
        "class Human:\n",
        "    def __init__(self, name, age):\n",
        "        # 名前と年齢の属性を持たせる\n",
        "        self.name = name\n",
        "        self.age = age\n",
        "\n",
        "    # 2. 大人かどうかを判定するメソッド\n",
        "    def check_adult(self):\n",
        "        if self.age >= 20:\n",
        "            print(f\"{self.name}さん（{self.age}歳）は大人です。\")\n",
        "        else:\n",
        "            print(f\"{self.name}さん（{self.age}歳）は大人ではありません。\")\n",
        "\n",
        "# 3. Humanクラスのインスタンスを複数作成し、リストに追加\n",
        "people = [\n",
        "    Human(\"たかし\", 25),\n",
        "    Human(\"ゆうこ\", 18),\n",
        "    Human(\"けんじ\", 20),\n",
        "    Human(\"あや\", 16)\n",
        "]\n",
        "\n",
        "# 4. リストの中の各人に対してcheck_adultメソッドを呼び出す\n",
        "for person in people:\n",
        "    person.check_adult()\n"
      ],
      "metadata": {
        "colab": {
          "base_uri": "https://localhost:8080/"
        },
        "id": "B8qNKFsBHRen",
        "outputId": "d4813afb-01ce-4003-edf5-aa802ca07e13"
      },
      "execution_count": 1,
      "outputs": [
        {
          "output_type": "stream",
          "name": "stdout",
          "text": [
            "たかしさん（25歳）は大人です。\n",
            "ゆうこさん（18歳）は大人ではありません。\n",
            "けんじさん（20歳）は大人です。\n",
            "あやさん（16歳）は大人ではありません。\n"
          ]
        }
      ]
    }
  ]
}